{
  "cells": [
    {
      "cell_type": "markdown",
      "metadata": {
        "kernel": "SoS",
        "nbgrader": {
          "grade": false,
          "grade_id": "c-001",
          "locked": true,
          "schema_version": 3,
          "solution": false,
          "task": false
        }
      },
      "source": [
        "#  問題1"
      ]
    },
    {
      "cell_type": "markdown",
      "metadata": {
        "kernel": "SoS",
        "nbgrader": {
          "grade": false,
          "grade_id": "c-002",
          "locked": true,
          "schema_version": 3,
          "solution": false,
          "task": false
        }
      },
      "source": [
        "##  (1)"
      ]
    },
    {
      "cell_type": "markdown",
      "metadata": {
        "kernel": "SoS",
        "nbgrader": {
          "grade": true,
          "grade_id": "p-001",
          "locked": false,
          "schema_version": 3,
          "solution": true,
          "task": false,
          "points": 1
        }
      },
      "source": [
        "BEGIN SOLUTION\n",
        "END SOLUTION\n",
        ""
      ]
    },
    {
      "cell_type": "markdown",
      "metadata": {
        "kernel": "SoS",
        "nbgrader": {
          "grade": false,
          "grade_id": "c-003",
          "locked": true,
          "schema_version": 3,
          "solution": false,
          "task": false
        }
      },
      "source": [
        "##  (2)"
      ]
    },
    {
      "cell_type": "code",
      "metadata": {
        "kernel": "Python 3 (ipykernel)",
        "nbgrader": {
          "grade": true,
          "grade_id": "p-002",
          "locked": false,
          "schema_version": 3,
          "solution": true,
          "task": false,
          "points": 1
        }
      },
      "source": [
        "BEGIN SOLUTION\n",
        "END SOLUTION\n",
        "%%writefile pixel_val.c\n",
        "#include <stdio.h>\n",
        "#include <stdlib.h>\n",
        "\n",
        "long pixel_value(const char * a_pgm, long i, long j) {\n",
        "}\n",
        "\n",
        "int main(int argc, char *argv[]) {\n",
        "  if (argc != 4) {\n",
        "    fprintf(stderr, \"Usage: %s a_pgm i j\\n\", argv[0]);\n",
        "    return 1;\n",
        "  }\n",
        "  const char * a_pgm = argv[1];\n",
        "  long i = atol(argv[2]);\n",
        "  long j = atol(argv[3]);\n",
        "\n",
        "  long pixel_val = pixel_value(a_pgm, i, j);\n",
        "  printf(\"%ld\\n\", pixel_val);\n",
        "  return 0;\n",
        "}"
      ],
      "execution_count": null,
      "outputs": []
    },
    {
      "cell_type": "code",
      "metadata": {
        "kernel": "Bash",
        "nbgrader": {
          "grade": true,
          "grade_id": "p-003",
          "locked": false,
          "schema_version": 3,
          "solution": true,
          "task": false,
          "points": 1
        }
      },
      "source": [
        "BEGIN SOLUTION\n",
        "END SOLUTION\n",
        "gcc -Wall -Wextra -O3 pixel_val.c -o pixel_val"
      ],
      "execution_count": null,
      "outputs": []
    },
    {
      "cell_type": "code",
      "metadata": {
        "kernel": "Bash",
        "nbgrader": {
          "grade": true,
          "grade_id": "p-004",
          "locked": false,
          "schema_version": 3,
          "solution": true,
          "task": false,
          "points": 1
        }
      },
      "source": [
        "BEGIN SOLUTION\n",
        "END SOLUTION\n",
        "if [ \"$(timeout 5 cg_mem_limit ./pixel_val prob2/i.pgm 0 0)\" = \"3\" ] ; then echo \"OK\" ; fi\n",
        "if [ \"$(timeout 5 cg_mem_limit ./pixel_val prob2/i.pgm 11 2)\" = \"120\" ] ; then echo \"OK\" ; fi"
      ],
      "execution_count": null,
      "outputs": []
    },
    {
      "cell_type": "markdown",
      "metadata": {
        "kernel": "SoS",
        "nbgrader": {
          "grade": false,
          "grade_id": "c-004",
          "locked": true,
          "schema_version": 3,
          "solution": false,
          "task": false
        }
      },
      "source": [
        "##  (3)"
      ]
    },
    {
      "cell_type": "code",
      "metadata": {
        "kernel": "Python 3 (ipykernel)",
        "nbgrader": {
          "grade": true,
          "grade_id": "p-005",
          "locked": false,
          "schema_version": 3,
          "solution": true,
          "task": false,
          "points": 1
        }
      },
      "source": [
        "BEGIN SOLUTION\n",
        "END SOLUTION\n",
        "%%writefile pixel_vals.sh\n",
        "#!/bin/bash\n",
        "\n",
        "cat $1 | while read i j ; do\n",
        "    echo \"i=$i j=$j\"\n",
        "done"
      ],
      "execution_count": null,
      "outputs": []
    },
    {
      "cell_type": "code",
      "metadata": {
        "kernel": "Bash",
        "nbgrader": {
          "grade": true,
          "grade_id": "p-006",
          "locked": false,
          "schema_version": 3,
          "solution": true,
          "task": false,
          "points": 1
        }
      },
      "source": [
        "BEGIN SOLUTION\n",
        "END SOLUTION\n",
        "chmod +x pixel_vals.sh"
      ],
      "execution_count": null,
      "outputs": []
    },
    {
      "cell_type": "code",
      "metadata": {
        "kernel": "Bash",
        "nbgrader": {
          "grade": true,
          "grade_id": "p-007",
          "locked": false,
          "schema_version": 3,
          "solution": true,
          "task": false,
          "points": 1
        }
      },
      "source": [
        "BEGIN SOLUTION\n",
        "END SOLUTION\n",
        "if [ \"$(timeout 5 cg_mem_limit ./pixel_vals.sh prob2/i.pgm prob2/idx.txt)\" = \"123\" ] ; then\n",
        "   echo \"OK\"\n",
        "fi"
      ],
      "execution_count": null,
      "outputs": []
    },
    {
      "cell_type": "markdown",
      "metadata": {
        "kernel": "SoS",
        "nbgrader": {
          "grade": false,
          "grade_id": "c-005",
          "locked": true,
          "schema_version": 3,
          "solution": false,
          "task": false
        }
      },
      "source": [
        "以下は解答をやり直したくなったときにコピーするためのセル(編集できない)"
      ]
    },
    {
      "cell_type": "code",
      "metadata": {
        "kernel": "Python 3 (ipykernel)",
        "nbgrader": {
          "grade": false,
          "grade_id": "c-006",
          "locked": true,
          "schema_version": 3,
          "solution": false,
          "task": false
        }
      },
      "source": [
        "%%writefile pixel_vals_orig.sh\n",
        "#!/bin/bash\n",
        "\n",
        "cat $1 | while read i j ; do\n",
        "    echo \"i=$i j=$j\"\n",
        "done"
      ],
      "execution_count": null,
      "outputs": []
    },
    {
      "cell_type": "markdown",
      "metadata": {
        "kernel": "SoS",
        "nbgrader": {
          "grade": false,
          "grade_id": "c-007",
          "locked": true,
          "schema_version": 3,
          "solution": false,
          "task": false
        }
      },
      "source": [
        "##  (4)",
        "\n",
        "選択肢:"
      ]
    },
    {
      "cell_type": "markdown",
      "metadata": {
        "kernel": "SoS",
        "nbgrader": {
          "grade": true,
          "grade_id": "p-008",
          "locked": false,
          "schema_version": 3,
          "solution": true,
          "task": false,
          "points": 1
        }
      },
      "source": [
        "BEGIN SOLUTION\n",
        "END SOLUTION\n",
        ""
      ]
    },
    {
      "cell_type": "markdown",
      "metadata": {
        "kernel": "SoS",
        "nbgrader": {
          "grade": false,
          "grade_id": "c-008",
          "locked": true,
          "schema_version": 3,
          "solution": false,
          "task": false
        }
      },
      "source": [
        "理由:"
      ]
    },
    {
      "cell_type": "markdown",
      "metadata": {
        "kernel": "SoS",
        "nbgrader": {
          "grade": true,
          "grade_id": "p-009",
          "locked": false,
          "schema_version": 3,
          "solution": true,
          "task": false,
          "points": 1
        }
      },
      "source": [
        "BEGIN SOLUTION\n",
        "END SOLUTION\n",
        ""
      ]
    },
    {
      "cell_type": "markdown",
      "metadata": {
        "kernel": "SoS",
        "nbgrader": {
          "grade": false,
          "grade_id": "c-009",
          "locked": true,
          "schema_version": 3,
          "solution": false,
          "task": false
        }
      },
      "source": [
        "##  (5)",
        "\n",
        "方針:"
      ]
    },
    {
      "cell_type": "markdown",
      "metadata": {
        "kernel": "SoS",
        "nbgrader": {
          "grade": true,
          "grade_id": "p-010",
          "locked": false,
          "schema_version": 3,
          "solution": true,
          "task": false,
          "points": 1
        }
      },
      "source": [
        "BEGIN SOLUTION\n",
        "END SOLUTION\n",
        ""
      ]
    },
    {
      "cell_type": "markdown",
      "metadata": {
        "kernel": "SoS",
        "nbgrader": {
          "grade": false,
          "grade_id": "c-010",
          "locked": true,
          "schema_version": 3,
          "solution": false,
          "task": false
        }
      },
      "source": [
        "理由:"
      ]
    },
    {
      "cell_type": "markdown",
      "metadata": {
        "kernel": "SoS",
        "nbgrader": {
          "grade": true,
          "grade_id": "p-011",
          "locked": false,
          "schema_version": 3,
          "solution": true,
          "task": false,
          "points": 1
        }
      },
      "source": [
        "BEGIN SOLUTION\n",
        "END SOLUTION\n",
        ""
      ]
    },
    {
      "cell_type": "markdown",
      "metadata": {
        "kernel": "SoS",
        "nbgrader": {
          "grade": false,
          "grade_id": "c-011",
          "locked": true,
          "schema_version": 3,
          "solution": false,
          "task": false
        }
      },
      "source": [
        "##  (6)"
      ]
    },
    {
      "cell_type": "code",
      "metadata": {
        "kernel": "Python 3 (ipykernel)",
        "nbgrader": {
          "grade": true,
          "grade_id": "p-012",
          "locked": false,
          "schema_version": 3,
          "solution": true,
          "task": false,
          "points": 1
        }
      },
      "source": [
        "BEGIN SOLUTION\n",
        "END SOLUTION\n",
        "%%writefile pixel_vals.c\n",
        "#include <assert.h>\n",
        "#include <err.h>\n",
        "#include <stdio.h>\n",
        "#include <stdlib.h>\n",
        "#include <sys/time.h>\n",
        "#include <sys/resource.h>\n",
        "\n",
        "typedef struct {\n",
        "  long i;\n",
        "  long j;\n",
        "} long_pair_t;\n",
        "\n",
        "long_pair_t* read_idx_file(const char *idx_txt, long * n_idxs) {\n",
        "  FILE *fp = fopen(idx_txt, \"r\");\n",
        "  if (!fp) err(1, \"fopen\");\n",
        "  /* count the number of lines (pairs) in the file */\n",
        "  long n = 0;\n",
        "  long i, j;\n",
        "  while (fscanf(fp, \"%ld %ld\", &i, &j) == 2) {\n",
        "    n++;\n",
        "  }\n",
        "  long_pair_t *idxs = malloc(n * sizeof(long_pair_t));\n",
        "  if (!idxs) err(1, \"malloc\");\n",
        "  \n",
        "  /* read from the start again */\n",
        "  rewind(fp);\n",
        "\n",
        "  /* Read the idxs into the array */\n",
        "  for (long k = 0; k < n; k++) {\n",
        "    int nr = fscanf(fp, \"%ld %ld\", &i, &j);\n",
        "    assert(nr == 2);\n",
        "    idxs[k].i = i;\n",
        "    idxs[k].j = j;\n",
        "  }\n",
        "  int nr = fscanf(fp, \"%ld %ld\", &i, &j);\n",
        "  assert(nr == -1);\n",
        "  fclose(fp);\n",
        "  *n_idxs = n;\n",
        "  return idxs;\n",
        "}\n",
        "\n",
        "long sum_pixel_values(const char * a_pgm, long n_idxs, long_pair_t * idxs) {\n",
        "}\n",
        "\n",
        "int main(int argc, char *argv[]) {\n",
        "  if (argc != 3) {\n",
        "    fprintf(stderr, \"Usage: %s a_pgm idx_txt\\n\", argv[0]);\n",
        "    return 1;\n",
        "  }\n",
        "  const char * a_pgm = argv[1];\n",
        "  const char * idx_txt = argv[2];\n",
        "  long n_idxs = 0;\n",
        "  long_pair_t * idxs = read_idx_file(idx_txt, &n_idxs);\n",
        "  long sum_pixel_vals = sum_pixel_values(a_pgm, n_idxs, idxs);\n",
        "  printf(\"%ld\\n\", sum_pixel_vals);\n",
        "  return 0;\n",
        "}"
      ],
      "execution_count": null,
      "outputs": []
    },
    {
      "cell_type": "code",
      "metadata": {
        "kernel": "Bash",
        "nbgrader": {
          "grade": true,
          "grade_id": "p-013",
          "locked": false,
          "schema_version": 3,
          "solution": true,
          "task": false,
          "points": 1
        }
      },
      "source": [
        "BEGIN SOLUTION\n",
        "END SOLUTION\n",
        "gcc -Wall -Wextra -O3 pixel_vals.c -o pixel_vals"
      ],
      "execution_count": null,
      "outputs": []
    },
    {
      "cell_type": "code",
      "metadata": {
        "kernel": "Bash",
        "nbgrader": {
          "grade": true,
          "grade_id": "p-014",
          "locked": false,
          "schema_version": 3,
          "solution": true,
          "task": false,
          "points": 1
        }
      },
      "source": [
        "BEGIN SOLUTION\n",
        "END SOLUTION\n",
        "if [ \"$(timeout 5 cg_mem_limit ./pixel_vals prob2/i.pgm prob2/idx.txt)\" = \"123\" ] ; then\n",
        "   echo \"OK\"\n",
        "fi"
      ],
      "execution_count": null,
      "outputs": []
    },
    {
      "cell_type": "markdown",
      "metadata": {
        "kernel": "SoS",
        "nbgrader": {
          "grade": false,
          "grade_id": "c-012",
          "locked": true,
          "schema_version": 3,
          "solution": false,
          "task": false
        }
      },
      "source": [
        "以下は解答をやり直したくなったときにコピーするためのセル(編集できない)"
      ]
    },
    {
      "cell_type": "code",
      "metadata": {
        "kernel": "Python 3 (ipykernel)",
        "nbgrader": {
          "grade": false,
          "grade_id": "c-013",
          "locked": true,
          "schema_version": 3,
          "solution": false,
          "task": false
        }
      },
      "source": [
        "%%writefile pixel_vals_orig.c\n",
        "#include <assert.h>\n",
        "#include <err.h>\n",
        "#include <stdio.h>\n",
        "#include <stdlib.h>\n",
        "#include <sys/time.h>\n",
        "#include <sys/resource.h>\n",
        "\n",
        "typedef struct {\n",
        "  long i;\n",
        "  long j;\n",
        "} long_pair_t;\n",
        "\n",
        "long_pair_t* read_idx_file(const char *idx_txt, long * n_idxs) {\n",
        "  FILE *fp = fopen(idx_txt, \"r\");\n",
        "  if (!fp) err(1, \"fopen\");\n",
        "  /* count the number of lines (pairs) in the file */\n",
        "  long n = 0;\n",
        "  long i, j;\n",
        "  while (fscanf(fp, \"%ld %ld\", &i, &j) == 2) {\n",
        "    n++;\n",
        "  }\n",
        "  long_pair_t *idxs = malloc(n * sizeof(long_pair_t));\n",
        "  if (!idxs) err(1, \"malloc\");\n",
        "  \n",
        "  /* read from the start again */\n",
        "  rewind(fp);\n",
        "\n",
        "  /* Read the idxs into the array */\n",
        "  for (long k = 0; k < n; k++) {\n",
        "    int nr = fscanf(fp, \"%ld %ld\", &i, &j);\n",
        "    assert(nr == 2);\n",
        "    idxs[k].i = i;\n",
        "    idxs[k].j = j;\n",
        "  }\n",
        "  int nr = fscanf(fp, \"%ld %ld\", &i, &j);\n",
        "  assert(nr == -1);\n",
        "  fclose(fp);\n",
        "  *n_idxs = n;\n",
        "  return idxs;\n",
        "}\n",
        "\n",
        "long sum_pixel_values(const char * a_pgm, long n_idxs, long_pair_t * idxs) {\n",
        "}\n",
        "\n",
        "int main(int argc, char *argv[]) {\n",
        "  if (argc != 3) {\n",
        "    fprintf(stderr, \"Usage: %s a_pgm idx_txt\\n\", argv[0]);\n",
        "    return 1;\n",
        "  }\n",
        "  const char * a_pgm = argv[1];\n",
        "  const char * idx_txt = argv[2];\n",
        "  long n_idxs = 0;\n",
        "  long_pair_t * idxs = read_idx_file(idx_txt, &n_idxs);\n",
        "  long sum_pixel_vals = sum_pixel_values(a_pgm, n_idxs, idxs);\n",
        "  printf(\"%ld\\n\", sum_pixel_vals);\n",
        "  return 0;\n",
        "}"
      ],
      "execution_count": null,
      "outputs": []
    }
  ],
  "metadata": {
    "celltoolbar": "Create Assignment",
    "kernelspec": {
      "display_name": "SoS",
      "language": "sos",
      "name": "sos"
    },
    "language_info": {
      "codemirror_mode": "sos",
      "file_extension": ".sos",
      "mimetype": "text/x-sos",
      "name": "sos",
      "nbconvert_exporter": "sos_notebook.converter.SoS_Exporter",
      "pygments_lexer": "sos"
    },
    "sos": {
      "kernels": [
        [
          "Bash",
          "bash",
          "bash",
          "",
          "shell"
        ],
        [
          "C",
          "c_kernel",
          "c",
          "",
          ""
        ],
        [
          "Go",
          "gophernotes",
          "go",
          "",
          ""
        ],
        [
          "Julia 1.10.2",
          "julia-1.10",
          "julia",
          "",
          ""
        ],
        [
          "OCaml default",
          "ocaml-jupyter",
          "OCaml",
          "",
          "text/x-ocaml"
        ],
        [
          "Python 3 (ipykernel)",
          "python3",
          "python3",
          "",
          {
            "name": "ipython",
            "version": 3
          }
        ],
        [
          "Rust",
          "rust",
          "rust",
          "",
          ""
        ]
      ],
      "panel": {
        "displayed": true,
        "height": 0
      },
      "version": "0.23.3"
    }
  },
  "nbformat": 4,
  "nbformat_minor": 4
}